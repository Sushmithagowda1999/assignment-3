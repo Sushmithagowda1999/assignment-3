{
 "cells": [
  {
   "cell_type": "markdown",
   "id": "d384d320",
   "metadata": {},
   "source": [
    "#### Write a Python function to sum all the numbers in a list.\n",
    "\n"
   ]
  },
  {
   "cell_type": "code",
   "execution_count": 1,
   "id": "60ae9efb",
   "metadata": {},
   "outputs": [
    {
     "name": "stdout",
     "output_type": "stream",
     "text": [
      "20\n"
     ]
    }
   ],
   "source": [
    "def sum(all_num):\n",
    "    total = 0\n",
    "    for p in all_num:\n",
    "        total += p\n",
    "    return total\n",
    "\n",
    "print(sum((8,2,3,0,7)))"
   ]
  },
  {
   "cell_type": "markdown",
   "id": "7e7b6ff8",
   "metadata": {},
   "source": [
    "### Write a Python program to reverse a string.\n",
    "\n"
   ]
  },
  {
   "cell_type": "code",
   "execution_count": 2,
   "id": "9777b47e",
   "metadata": {},
   "outputs": [
    {
     "name": "stdout",
     "output_type": "stream",
     "text": [
      "dcba4321\n"
     ]
    }
   ],
   "source": [
    "def  reverse_string(string):\n",
    "    revst = ''\n",
    "    index = len(string)\n",
    "    while index > 0:\n",
    "        revst += string[ index - 1 ]\n",
    "        index = index - 1\n",
    "    return revst\n",
    "print(reverse_string('1234abcd'))"
   ]
  },
  {
   "cell_type": "markdown",
   "id": "1623a2e1",
   "metadata": {},
   "source": [
    "#### Write a Python function that accepts a string and calculate the number of upper case letters and lower case letters.\n",
    "\n"
   ]
  },
  {
   "cell_type": "code",
   "execution_count": 3,
   "id": "5525d42d",
   "metadata": {},
   "outputs": [
    {
     "name": "stdout",
     "output_type": "stream",
     "text": [
      "total Upper case  : 3\n",
      "total Lower case  : 12\n"
     ]
    }
   ],
   "source": [
    "def string(a):\n",
    "    p={\"uppercase\":0, \"lowercase\":0}\n",
    "    for c in a:\n",
    "        if c.isupper():\n",
    "            p[\"uppercase\"]+=1\n",
    "        elif c.islower():\n",
    "            p[\"lowercase\"]+=1\n",
    "        else:\n",
    "               pass\n",
    "    \n",
    "    print (\"total Upper case  :\", p[\"uppercase\"])\n",
    "    print (\"total Lower case  :\", p[\"lowercase\"])\n",
    "\n",
    "string('The quick Brow Fox')"
   ]
  },
  {
   "cell_type": "code",
   "execution_count": null,
   "id": "a8f260a9",
   "metadata": {},
   "outputs": [],
   "source": []
  },
  {
   "cell_type": "code",
   "execution_count": null,
   "id": "a991162d",
   "metadata": {},
   "outputs": [],
   "source": []
  }
 ],
 "metadata": {
  "kernelspec": {
   "display_name": "Python 3",
   "language": "python",
   "name": "python3"
  },
  "language_info": {
   "codemirror_mode": {
    "name": "ipython",
    "version": 3
   },
   "file_extension": ".py",
   "mimetype": "text/x-python",
   "name": "python",
   "nbconvert_exporter": "python",
   "pygments_lexer": "ipython3",
   "version": "3.8.8"
  }
 },
 "nbformat": 4,
 "nbformat_minor": 5
}
